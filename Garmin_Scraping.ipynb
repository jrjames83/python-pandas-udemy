{
  "nbformat": 4,
  "nbformat_minor": 0,
  "metadata": {
    "colab": {
      "name": "Garmin Scraping.ipynb",
      "provenance": [],
      "collapsed_sections": [],
      "authorship_tag": "ABX9TyNseKTKJ+WnZJ66tMKUfBGe",
      "include_colab_link": true
    },
    "kernelspec": {
      "name": "python3",
      "display_name": "Python 3"
    },
    "language_info": {
      "name": "python"
    }
  },
  "cells": [
    {
      "cell_type": "markdown",
      "metadata": {
        "id": "view-in-github",
        "colab_type": "text"
      },
      "source": [
        "<a href=\"https://colab.research.google.com/github/jrjames83/python-pandas-udemy/blob/main/Garmin_Scraping.ipynb\" target=\"_parent\"><img src=\"https://colab.research.google.com/assets/colab-badge.svg\" alt=\"Open In Colab\"/></a>"
      ]
    },
    {
      "cell_type": "code",
      "execution_count": 1,
      "metadata": {
        "id": "574XHs0YpptC"
      },
      "outputs": [],
      "source": [
        "# Foundation for web scraping\n",
        "# Parsing structured data\n",
        "# Understanding data types and conversions\n",
        "# Getting arbitrary data into a dataframe\n",
        "\n",
        "# Data science is a lot easier when you're a good programmer!\n",
        "# https://github.com/jrjames83/python-pandas-udemy"
      ]
    },
    {
      "cell_type": "code",
      "source": [
        "import requests \n",
        "import pandas as pd \n",
        "from bs4 import BeautifulSoup"
      ],
      "metadata": {
        "id": "LB7DeyHBp4pM"
      },
      "execution_count": 2,
      "outputs": []
    },
    {
      "cell_type": "code",
      "source": [
        "url = \"https://raw.githubusercontent.com/jrjames83/python-pandas-udemy/main/garmin.gpx\"\n",
        "resp = requests.get(url)\n",
        "resp.status_code"
      ],
      "metadata": {
        "colab": {
          "base_uri": "https://localhost:8080/"
        },
        "id": "s_sFCD3krgaS",
        "outputId": "1079e41d-dc21-4d7e-f14d-d8a32d4fe6f9"
      },
      "execution_count": 3,
      "outputs": [
        {
          "output_type": "execute_result",
          "data": {
            "text/plain": [
              "200"
            ]
          },
          "metadata": {},
          "execution_count": 3
        }
      ]
    },
    {
      "cell_type": "code",
      "source": [
        "len(resp.text) #2,489,508"
      ],
      "metadata": {
        "colab": {
          "base_uri": "https://localhost:8080/"
        },
        "id": "HDb_lHPWrkmW",
        "outputId": "07db6879-8033-409c-dff0-6fcd1f4913c7"
      },
      "execution_count": 4,
      "outputs": [
        {
          "output_type": "execute_result",
          "data": {
            "text/plain": [
              "2489508"
            ]
          },
          "metadata": {},
          "execution_count": 4
        }
      ]
    },
    {
      "cell_type": "code",
      "source": [
        "soup = BeautifulSoup(resp.text, \"html.parser\")\n",
        "type(soup)"
      ],
      "metadata": {
        "colab": {
          "base_uri": "https://localhost:8080/"
        },
        "id": "gGQGLdZOrsAy",
        "outputId": "6a6588ce-0ce7-42a0-b54a-6874274111e0"
      },
      "execution_count": 5,
      "outputs": [
        {
          "output_type": "execute_result",
          "data": {
            "text/plain": [
              "bs4.BeautifulSoup"
            ]
          },
          "metadata": {},
          "execution_count": 5
        }
      ]
    },
    {
      "cell_type": "code",
      "source": [
        "points = soup.find_all(\"trkpt\")\n",
        "len(points)"
      ],
      "metadata": {
        "colab": {
          "base_uri": "https://localhost:8080/"
        },
        "id": "iouOgI3isMBN",
        "outputId": "d1036a6c-352d-445d-97fd-09d9b00fdccb"
      },
      "execution_count": 6,
      "outputs": [
        {
          "output_type": "execute_result",
          "data": {
            "text/plain": [
              "6722"
            ]
          },
          "metadata": {},
          "execution_count": 6
        }
      ]
    },
    {
      "cell_type": "code",
      "source": [
        "points[0].find('time')\n",
        "# lat, lon, time, hr, cad"
      ],
      "metadata": {
        "colab": {
          "base_uri": "https://localhost:8080/"
        },
        "id": "6g-IRfqVskH-",
        "outputId": "63cf895c-8c0f-407c-d234-e160b367a871"
      },
      "execution_count": 7,
      "outputs": [
        {
          "output_type": "execute_result",
          "data": {
            "text/plain": [
              "<time>2021-06-19T17:47:48.000Z</time>"
            ]
          },
          "metadata": {},
          "execution_count": 7
        }
      ]
    },
    {
      "cell_type": "code",
      "source": [
        "# points[0].attrs#, points[0]\n",
        "points[0].find('time').get_text()"
      ],
      "metadata": {
        "colab": {
          "base_uri": "https://localhost:8080/",
          "height": 35
        },
        "id": "8PWmK9FbsmOn",
        "outputId": "82e98e3d-a922-48a8-cdc5-71f3b474b1a2"
      },
      "execution_count": 8,
      "outputs": [
        {
          "output_type": "execute_result",
          "data": {
            "application/vnd.google.colaboratory.intrinsic+json": {
              "type": "string"
            },
            "text/plain": [
              "'2021-06-19T17:47:48.000Z'"
            ]
          },
          "metadata": {},
          "execution_count": 8
        }
      ]
    },
    {
      "cell_type": "code",
      "source": [
        "# For each point, return a dictionary, with {lat, lon, time, hr, cad}\n",
        "def get_data_from_point(p) -> dict:\n",
        "  return {\n",
        "      'lat': p.attrs['lat'],\n",
        "      'lon': p.attrs['lon'],\n",
        "      'time': p.find('time').get_text(), \n",
        "      'hr': p.find('extensions').find('ns3:hr').get_text(),\n",
        "      'cad': p.find('extensions').find('ns3:cad').get_text()\n",
        "  }\n",
        "\n",
        "get_data_from_point(points[0])"
      ],
      "metadata": {
        "colab": {
          "base_uri": "https://localhost:8080/"
        },
        "id": "0A8KvxRntFwE",
        "outputId": "20ba1756-0b94-4514-ce76-ef49acb81801"
      },
      "execution_count": 9,
      "outputs": [
        {
          "output_type": "execute_result",
          "data": {
            "text/plain": [
              "{'cad': '58',\n",
              " 'hr': '93',\n",
              " 'lat': '39.54318523406982421875',\n",
              " 'lon': '-105.1520966179668903350830078125',\n",
              " 'time': '2021-06-19T17:47:48.000Z'}"
            ]
          },
          "metadata": {},
          "execution_count": 9
        }
      ]
    },
    {
      "cell_type": "code",
      "source": [
        "# Get all the points, run them through our function and store the returned value in another list\n",
        "proc_points = []\n",
        "\n",
        "for point in points:\n",
        "  output = get_data_from_point(point)\n",
        "  proc_points.append(output)\n",
        "\n",
        "assert len(proc_points) == 6722  "
      ],
      "metadata": {
        "id": "6LXiit-0vgey"
      },
      "execution_count": 10,
      "outputs": []
    },
    {
      "cell_type": "code",
      "source": [
        "proc_points = [get_data_from_point(p) for p in points]\n",
        "assert len(proc_points) == 6722  "
      ],
      "metadata": {
        "id": "xyBAjVZCySrC"
      },
      "execution_count": 11,
      "outputs": []
    },
    {
      "cell_type": "code",
      "source": [
        "# List of dictionaries pattern, \"records\"\n",
        "df = pd.DataFrame.from_records(proc_points)\n",
        "df.shape"
      ],
      "metadata": {
        "colab": {
          "base_uri": "https://localhost:8080/"
        },
        "id": "egDatFlSzSnY",
        "outputId": "2fecd09c-9c69-4fd8-dd32-e97ec3e932e3"
      },
      "execution_count": 12,
      "outputs": [
        {
          "output_type": "execute_result",
          "data": {
            "text/plain": [
              "(6722, 5)"
            ]
          },
          "metadata": {},
          "execution_count": 12
        }
      ]
    },
    {
      "cell_type": "code",
      "source": [
        "# animals = ['dog', 'cat', 'bird']\n",
        "# upper_animals = [animal.upper() for animal in animals]\n",
        "# animals, upper_animals"
      ],
      "metadata": {
        "id": "4fXqwGgKyU4W"
      },
      "execution_count": 13,
      "outputs": []
    },
    {
      "cell_type": "code",
      "source": [
        "df.head()"
      ],
      "metadata": {
        "colab": {
          "base_uri": "https://localhost:8080/",
          "height": 337
        },
        "id": "J_MNklmAzC4l",
        "outputId": "48b22063-c2ce-497c-b069-cfa702d66019"
      },
      "execution_count": 14,
      "outputs": [
        {
          "output_type": "execute_result",
          "data": {
            "text/html": [
              "\n",
              "  <div id=\"df-6568e2bb-fbdc-4ad7-adbd-b41219551b67\">\n",
              "    <div class=\"colab-df-container\">\n",
              "      <div>\n",
              "<style scoped>\n",
              "    .dataframe tbody tr th:only-of-type {\n",
              "        vertical-align: middle;\n",
              "    }\n",
              "\n",
              "    .dataframe tbody tr th {\n",
              "        vertical-align: top;\n",
              "    }\n",
              "\n",
              "    .dataframe thead th {\n",
              "        text-align: right;\n",
              "    }\n",
              "</style>\n",
              "<table border=\"1\" class=\"dataframe\">\n",
              "  <thead>\n",
              "    <tr style=\"text-align: right;\">\n",
              "      <th></th>\n",
              "      <th>lat</th>\n",
              "      <th>lon</th>\n",
              "      <th>time</th>\n",
              "      <th>hr</th>\n",
              "      <th>cad</th>\n",
              "    </tr>\n",
              "  </thead>\n",
              "  <tbody>\n",
              "    <tr>\n",
              "      <th>0</th>\n",
              "      <td>39.54318523406982421875</td>\n",
              "      <td>-105.1520966179668903350830078125</td>\n",
              "      <td>2021-06-19T17:47:48.000Z</td>\n",
              "      <td>93</td>\n",
              "      <td>58</td>\n",
              "    </tr>\n",
              "    <tr>\n",
              "      <th>1</th>\n",
              "      <td>39.54317224211990833282470703125</td>\n",
              "      <td>-105.152091421186923980712890625</td>\n",
              "      <td>2021-06-19T17:47:49.000Z</td>\n",
              "      <td>93</td>\n",
              "      <td>0</td>\n",
              "    </tr>\n",
              "    <tr>\n",
              "      <th>2</th>\n",
              "      <td>39.543156735599040985107421875</td>\n",
              "      <td>-105.1520897448062896728515625</td>\n",
              "      <td>2021-06-19T17:47:50.000Z</td>\n",
              "      <td>93</td>\n",
              "      <td>0</td>\n",
              "    </tr>\n",
              "    <tr>\n",
              "      <th>3</th>\n",
              "      <td>39.543141312897205352783203125</td>\n",
              "      <td>-105.1520885713398456573486328125</td>\n",
              "      <td>2021-06-19T17:47:51.000Z</td>\n",
              "      <td>93</td>\n",
              "      <td>0</td>\n",
              "    </tr>\n",
              "    <tr>\n",
              "      <th>4</th>\n",
              "      <td>39.54312496818602085113525390625</td>\n",
              "      <td>-105.1520909182727336883544921875</td>\n",
              "      <td>2021-06-19T17:47:52.000Z</td>\n",
              "      <td>93</td>\n",
              "      <td>0</td>\n",
              "    </tr>\n",
              "  </tbody>\n",
              "</table>\n",
              "</div>\n",
              "      <button class=\"colab-df-convert\" onclick=\"convertToInteractive('df-6568e2bb-fbdc-4ad7-adbd-b41219551b67')\"\n",
              "              title=\"Convert this dataframe to an interactive table.\"\n",
              "              style=\"display:none;\">\n",
              "        \n",
              "  <svg xmlns=\"http://www.w3.org/2000/svg\" height=\"24px\"viewBox=\"0 0 24 24\"\n",
              "       width=\"24px\">\n",
              "    <path d=\"M0 0h24v24H0V0z\" fill=\"none\"/>\n",
              "    <path d=\"M18.56 5.44l.94 2.06.94-2.06 2.06-.94-2.06-.94-.94-2.06-.94 2.06-2.06.94zm-11 1L8.5 8.5l.94-2.06 2.06-.94-2.06-.94L8.5 2.5l-.94 2.06-2.06.94zm10 10l.94 2.06.94-2.06 2.06-.94-2.06-.94-.94-2.06-.94 2.06-2.06.94z\"/><path d=\"M17.41 7.96l-1.37-1.37c-.4-.4-.92-.59-1.43-.59-.52 0-1.04.2-1.43.59L10.3 9.45l-7.72 7.72c-.78.78-.78 2.05 0 2.83L4 21.41c.39.39.9.59 1.41.59.51 0 1.02-.2 1.41-.59l7.78-7.78 2.81-2.81c.8-.78.8-2.07 0-2.86zM5.41 20L4 18.59l7.72-7.72 1.47 1.35L5.41 20z\"/>\n",
              "  </svg>\n",
              "      </button>\n",
              "      \n",
              "  <style>\n",
              "    .colab-df-container {\n",
              "      display:flex;\n",
              "      flex-wrap:wrap;\n",
              "      gap: 12px;\n",
              "    }\n",
              "\n",
              "    .colab-df-convert {\n",
              "      background-color: #E8F0FE;\n",
              "      border: none;\n",
              "      border-radius: 50%;\n",
              "      cursor: pointer;\n",
              "      display: none;\n",
              "      fill: #1967D2;\n",
              "      height: 32px;\n",
              "      padding: 0 0 0 0;\n",
              "      width: 32px;\n",
              "    }\n",
              "\n",
              "    .colab-df-convert:hover {\n",
              "      background-color: #E2EBFA;\n",
              "      box-shadow: 0px 1px 2px rgba(60, 64, 67, 0.3), 0px 1px 3px 1px rgba(60, 64, 67, 0.15);\n",
              "      fill: #174EA6;\n",
              "    }\n",
              "\n",
              "    [theme=dark] .colab-df-convert {\n",
              "      background-color: #3B4455;\n",
              "      fill: #D2E3FC;\n",
              "    }\n",
              "\n",
              "    [theme=dark] .colab-df-convert:hover {\n",
              "      background-color: #434B5C;\n",
              "      box-shadow: 0px 1px 3px 1px rgba(0, 0, 0, 0.15);\n",
              "      filter: drop-shadow(0px 1px 2px rgba(0, 0, 0, 0.3));\n",
              "      fill: #FFFFFF;\n",
              "    }\n",
              "  </style>\n",
              "\n",
              "      <script>\n",
              "        const buttonEl =\n",
              "          document.querySelector('#df-6568e2bb-fbdc-4ad7-adbd-b41219551b67 button.colab-df-convert');\n",
              "        buttonEl.style.display =\n",
              "          google.colab.kernel.accessAllowed ? 'block' : 'none';\n",
              "\n",
              "        async function convertToInteractive(key) {\n",
              "          const element = document.querySelector('#df-6568e2bb-fbdc-4ad7-adbd-b41219551b67');\n",
              "          const dataTable =\n",
              "            await google.colab.kernel.invokeFunction('convertToInteractive',\n",
              "                                                     [key], {});\n",
              "          if (!dataTable) return;\n",
              "\n",
              "          const docLinkHtml = 'Like what you see? Visit the ' +\n",
              "            '<a target=\"_blank\" href=https://colab.research.google.com/notebooks/data_table.ipynb>data table notebook</a>'\n",
              "            + ' to learn more about interactive tables.';\n",
              "          element.innerHTML = '';\n",
              "          dataTable['output_type'] = 'display_data';\n",
              "          await google.colab.output.renderOutput(dataTable, element);\n",
              "          const docLink = document.createElement('div');\n",
              "          docLink.innerHTML = docLinkHtml;\n",
              "          element.appendChild(docLink);\n",
              "        }\n",
              "      </script>\n",
              "    </div>\n",
              "  </div>\n",
              "  "
            ],
            "text/plain": [
              "                                lat                                lon  ...  hr cad\n",
              "0           39.54318523406982421875  -105.1520966179668903350830078125  ...  93  58\n",
              "1  39.54317224211990833282470703125   -105.152091421186923980712890625  ...  93   0\n",
              "2    39.543156735599040985107421875     -105.1520897448062896728515625  ...  93   0\n",
              "3    39.543141312897205352783203125  -105.1520885713398456573486328125  ...  93   0\n",
              "4  39.54312496818602085113525390625  -105.1520909182727336883544921875  ...  93   0\n",
              "\n",
              "[5 rows x 5 columns]"
            ]
          },
          "metadata": {},
          "execution_count": 14
        }
      ]
    },
    {
      "cell_type": "code",
      "source": [
        "df['lat'] = df['lat'].astype(float)\n",
        "df['lon'] = df['lon'].astype(float)\n",
        "df['hr'] = df['hr'].astype(int)\n",
        "df['cad'] = df['cad'].astype(int)\n",
        "df['date_timestamp'] = pd.to_datetime(df['time'])\n",
        "df.head()"
      ],
      "metadata": {
        "colab": {
          "base_uri": "https://localhost:8080/",
          "height": 206
        },
        "id": "Jmj5AWGHzyZ2",
        "outputId": "70c1ed00-4a98-4382-ef61-ea24d867c7a2"
      },
      "execution_count": 15,
      "outputs": [
        {
          "output_type": "execute_result",
          "data": {
            "text/html": [
              "\n",
              "  <div id=\"df-c1f2deb1-20ad-426f-938f-a1b4c698d58c\">\n",
              "    <div class=\"colab-df-container\">\n",
              "      <div>\n",
              "<style scoped>\n",
              "    .dataframe tbody tr th:only-of-type {\n",
              "        vertical-align: middle;\n",
              "    }\n",
              "\n",
              "    .dataframe tbody tr th {\n",
              "        vertical-align: top;\n",
              "    }\n",
              "\n",
              "    .dataframe thead th {\n",
              "        text-align: right;\n",
              "    }\n",
              "</style>\n",
              "<table border=\"1\" class=\"dataframe\">\n",
              "  <thead>\n",
              "    <tr style=\"text-align: right;\">\n",
              "      <th></th>\n",
              "      <th>lat</th>\n",
              "      <th>lon</th>\n",
              "      <th>time</th>\n",
              "      <th>hr</th>\n",
              "      <th>cad</th>\n",
              "      <th>date_timestamp</th>\n",
              "    </tr>\n",
              "  </thead>\n",
              "  <tbody>\n",
              "    <tr>\n",
              "      <th>0</th>\n",
              "      <td>39.543185</td>\n",
              "      <td>-105.152097</td>\n",
              "      <td>2021-06-19T17:47:48.000Z</td>\n",
              "      <td>93</td>\n",
              "      <td>58</td>\n",
              "      <td>2021-06-19 17:47:48+00:00</td>\n",
              "    </tr>\n",
              "    <tr>\n",
              "      <th>1</th>\n",
              "      <td>39.543172</td>\n",
              "      <td>-105.152091</td>\n",
              "      <td>2021-06-19T17:47:49.000Z</td>\n",
              "      <td>93</td>\n",
              "      <td>0</td>\n",
              "      <td>2021-06-19 17:47:49+00:00</td>\n",
              "    </tr>\n",
              "    <tr>\n",
              "      <th>2</th>\n",
              "      <td>39.543157</td>\n",
              "      <td>-105.152090</td>\n",
              "      <td>2021-06-19T17:47:50.000Z</td>\n",
              "      <td>93</td>\n",
              "      <td>0</td>\n",
              "      <td>2021-06-19 17:47:50+00:00</td>\n",
              "    </tr>\n",
              "    <tr>\n",
              "      <th>3</th>\n",
              "      <td>39.543141</td>\n",
              "      <td>-105.152089</td>\n",
              "      <td>2021-06-19T17:47:51.000Z</td>\n",
              "      <td>93</td>\n",
              "      <td>0</td>\n",
              "      <td>2021-06-19 17:47:51+00:00</td>\n",
              "    </tr>\n",
              "    <tr>\n",
              "      <th>4</th>\n",
              "      <td>39.543125</td>\n",
              "      <td>-105.152091</td>\n",
              "      <td>2021-06-19T17:47:52.000Z</td>\n",
              "      <td>93</td>\n",
              "      <td>0</td>\n",
              "      <td>2021-06-19 17:47:52+00:00</td>\n",
              "    </tr>\n",
              "  </tbody>\n",
              "</table>\n",
              "</div>\n",
              "      <button class=\"colab-df-convert\" onclick=\"convertToInteractive('df-c1f2deb1-20ad-426f-938f-a1b4c698d58c')\"\n",
              "              title=\"Convert this dataframe to an interactive table.\"\n",
              "              style=\"display:none;\">\n",
              "        \n",
              "  <svg xmlns=\"http://www.w3.org/2000/svg\" height=\"24px\"viewBox=\"0 0 24 24\"\n",
              "       width=\"24px\">\n",
              "    <path d=\"M0 0h24v24H0V0z\" fill=\"none\"/>\n",
              "    <path d=\"M18.56 5.44l.94 2.06.94-2.06 2.06-.94-2.06-.94-.94-2.06-.94 2.06-2.06.94zm-11 1L8.5 8.5l.94-2.06 2.06-.94-2.06-.94L8.5 2.5l-.94 2.06-2.06.94zm10 10l.94 2.06.94-2.06 2.06-.94-2.06-.94-.94-2.06-.94 2.06-2.06.94z\"/><path d=\"M17.41 7.96l-1.37-1.37c-.4-.4-.92-.59-1.43-.59-.52 0-1.04.2-1.43.59L10.3 9.45l-7.72 7.72c-.78.78-.78 2.05 0 2.83L4 21.41c.39.39.9.59 1.41.59.51 0 1.02-.2 1.41-.59l7.78-7.78 2.81-2.81c.8-.78.8-2.07 0-2.86zM5.41 20L4 18.59l7.72-7.72 1.47 1.35L5.41 20z\"/>\n",
              "  </svg>\n",
              "      </button>\n",
              "      \n",
              "  <style>\n",
              "    .colab-df-container {\n",
              "      display:flex;\n",
              "      flex-wrap:wrap;\n",
              "      gap: 12px;\n",
              "    }\n",
              "\n",
              "    .colab-df-convert {\n",
              "      background-color: #E8F0FE;\n",
              "      border: none;\n",
              "      border-radius: 50%;\n",
              "      cursor: pointer;\n",
              "      display: none;\n",
              "      fill: #1967D2;\n",
              "      height: 32px;\n",
              "      padding: 0 0 0 0;\n",
              "      width: 32px;\n",
              "    }\n",
              "\n",
              "    .colab-df-convert:hover {\n",
              "      background-color: #E2EBFA;\n",
              "      box-shadow: 0px 1px 2px rgba(60, 64, 67, 0.3), 0px 1px 3px 1px rgba(60, 64, 67, 0.15);\n",
              "      fill: #174EA6;\n",
              "    }\n",
              "\n",
              "    [theme=dark] .colab-df-convert {\n",
              "      background-color: #3B4455;\n",
              "      fill: #D2E3FC;\n",
              "    }\n",
              "\n",
              "    [theme=dark] .colab-df-convert:hover {\n",
              "      background-color: #434B5C;\n",
              "      box-shadow: 0px 1px 3px 1px rgba(0, 0, 0, 0.15);\n",
              "      filter: drop-shadow(0px 1px 2px rgba(0, 0, 0, 0.3));\n",
              "      fill: #FFFFFF;\n",
              "    }\n",
              "  </style>\n",
              "\n",
              "      <script>\n",
              "        const buttonEl =\n",
              "          document.querySelector('#df-c1f2deb1-20ad-426f-938f-a1b4c698d58c button.colab-df-convert');\n",
              "        buttonEl.style.display =\n",
              "          google.colab.kernel.accessAllowed ? 'block' : 'none';\n",
              "\n",
              "        async function convertToInteractive(key) {\n",
              "          const element = document.querySelector('#df-c1f2deb1-20ad-426f-938f-a1b4c698d58c');\n",
              "          const dataTable =\n",
              "            await google.colab.kernel.invokeFunction('convertToInteractive',\n",
              "                                                     [key], {});\n",
              "          if (!dataTable) return;\n",
              "\n",
              "          const docLinkHtml = 'Like what you see? Visit the ' +\n",
              "            '<a target=\"_blank\" href=https://colab.research.google.com/notebooks/data_table.ipynb>data table notebook</a>'\n",
              "            + ' to learn more about interactive tables.';\n",
              "          element.innerHTML = '';\n",
              "          dataTable['output_type'] = 'display_data';\n",
              "          await google.colab.output.renderOutput(dataTable, element);\n",
              "          const docLink = document.createElement('div');\n",
              "          docLink.innerHTML = docLinkHtml;\n",
              "          element.appendChild(docLink);\n",
              "        }\n",
              "      </script>\n",
              "    </div>\n",
              "  </div>\n",
              "  "
            ],
            "text/plain": [
              "         lat         lon  ... cad            date_timestamp\n",
              "0  39.543185 -105.152097  ...  58 2021-06-19 17:47:48+00:00\n",
              "1  39.543172 -105.152091  ...   0 2021-06-19 17:47:49+00:00\n",
              "2  39.543157 -105.152090  ...   0 2021-06-19 17:47:50+00:00\n",
              "3  39.543141 -105.152089  ...   0 2021-06-19 17:47:51+00:00\n",
              "4  39.543125 -105.152091  ...   0 2021-06-19 17:47:52+00:00\n",
              "\n",
              "[5 rows x 6 columns]"
            ]
          },
          "metadata": {},
          "execution_count": 15
        }
      ]
    },
    {
      "cell_type": "code",
      "source": [
        "# Plot heart rate over time\n",
        "# Plot cadence over time\n",
        "# Duration of the run\n",
        "# Avg distance between points!\n",
        "\n",
        "import matplotlib.pyplot as plt\n",
        "%matplotlib inline\n",
        "\n",
        "df['hr'].rolling(240).mean().plot()\n",
        "df['cad'].rolling(240).mean().plot()\n",
        "plt.title(\"Heart Rate and Cadence\");"
      ],
      "metadata": {
        "colab": {
          "base_uri": "https://localhost:8080/",
          "height": 281
        },
        "id": "3JVTCgX52hbG",
        "outputId": "c63ba2c1-99ca-4a68-b020-b9ce44411e13"
      },
      "execution_count": 16,
      "outputs": [
        {
          "output_type": "display_data",
          "data": {
            "image/png": "[encoded data removed]",
            "text/plain": [
              "<Figure size 432x288 with 1 Axes>"
            ]
          },
          "metadata": {
            "needs_background": "light"
          }
        }
      ]
    },
    {
      "cell_type": "code",
      "source": [
        "# https://matplotlib.org/devdocs/gallery/subplots_axes_and_figures/subplots_demo.html\n",
        "fig, (ax1, ax2) = plt.subplots(1, 2)\n",
        "fig.suptitle('running metrics')\n",
        "\n",
        "df['hr'].rolling(240).mean().plot(ax=ax1)\n",
        "ax1.set_title(\"Heart Rate\")\n",
        "df['cad'].rolling(240).mean().plot(ax=ax2);\n",
        "ax2.set_title(\"Cadence\")"
      ],
      "metadata": {
        "colab": {
          "base_uri": "https://localhost:8080/",
          "height": 311
        },
        "id": "WC4Vz7uw4Zyt",
        "outputId": "ce067a16-5712-4479-d1de-ff25ece5eb1c"
      },
      "execution_count": 17,
      "outputs": [
        {
          "output_type": "execute_result",
          "data": {
            "text/plain": [
              "Text(0.5, 1.0, 'Cadence')"
            ]
          },
          "metadata": {},
          "execution_count": 17
        },
        {
          "output_type": "display_data",
          "data": {
            "image/png": "[encoded data removed]",
            "text/plain": [
              "<Figure size 432x288 with 2 Axes>"
            ]
          },
          "metadata": {
            "needs_background": "light"
          }
        }
      ]
    },
    {
      "cell_type": "code",
      "source": [
        "import numpy as np \n",
        "df.describe(percentiles=np.arange(0, 1, .10))"
      ],
      "metadata": {
        "colab": {
          "base_uri": "https://localhost:8080/",
          "height": 520
        },
        "id": "Klv5Sxdc8X10",
        "outputId": "eef06ea0-9c38-4fee-a3f7-f68db74aec9c"
      },
      "execution_count": 18,
      "outputs": [
        {
          "output_type": "execute_result",
          "data": {
            "text/html": [
              "\n",
              "  <div id=\"df-95ff41c0-afa5-46bb-a6ce-85931bbd1f8b\">\n",
              "    <div class=\"colab-df-container\">\n",
              "      <div>\n",
              "<style scoped>\n",
              "    .dataframe tbody tr th:only-of-type {\n",
              "        vertical-align: middle;\n",
              "    }\n",
              "\n",
              "    .dataframe tbody tr th {\n",
              "        vertical-align: top;\n",
              "    }\n",
              "\n",
              "    .dataframe thead th {\n",
              "        text-align: right;\n",
              "    }\n",
              "</style>\n",
              "<table border=\"1\" class=\"dataframe\">\n",
              "  <thead>\n",
              "    <tr style=\"text-align: right;\">\n",
              "      <th></th>\n",
              "      <th>lat</th>\n",
              "      <th>lon</th>\n",
              "      <th>hr</th>\n",
              "      <th>cad</th>\n",
              "    </tr>\n",
              "  </thead>\n",
              "  <tbody>\n",
              "    <tr>\n",
              "      <th>count</th>\n",
              "      <td>6722.000000</td>\n",
              "      <td>6722.000000</td>\n",
              "      <td>6722.000000</td>\n",
              "      <td>6722.000000</td>\n",
              "    </tr>\n",
              "    <tr>\n",
              "      <th>mean</th>\n",
              "      <td>39.535299</td>\n",
              "      <td>-105.159246</td>\n",
              "      <td>126.072895</td>\n",
              "      <td>53.939601</td>\n",
              "    </tr>\n",
              "    <tr>\n",
              "      <th>std</th>\n",
              "      <td>0.004307</td>\n",
              "      <td>0.005165</td>\n",
              "      <td>20.264309</td>\n",
              "      <td>19.954574</td>\n",
              "    </tr>\n",
              "    <tr>\n",
              "      <th>min</th>\n",
              "      <td>39.529147</td>\n",
              "      <td>-105.168793</td>\n",
              "      <td>80.000000</td>\n",
              "      <td>0.000000</td>\n",
              "    </tr>\n",
              "    <tr>\n",
              "      <th>0%</th>\n",
              "      <td>39.529147</td>\n",
              "      <td>-105.168793</td>\n",
              "      <td>80.000000</td>\n",
              "      <td>0.000000</td>\n",
              "    </tr>\n",
              "    <tr>\n",
              "      <th>10%</th>\n",
              "      <td>39.529875</td>\n",
              "      <td>-105.165529</td>\n",
              "      <td>95.000000</td>\n",
              "      <td>0.000000</td>\n",
              "    </tr>\n",
              "    <tr>\n",
              "      <th>20%</th>\n",
              "      <td>39.530839</td>\n",
              "      <td>-105.164082</td>\n",
              "      <td>114.000000</td>\n",
              "      <td>53.000000</td>\n",
              "    </tr>\n",
              "    <tr>\n",
              "      <th>30%</th>\n",
              "      <td>39.532800</td>\n",
              "      <td>-105.163447</td>\n",
              "      <td>118.000000</td>\n",
              "      <td>55.000000</td>\n",
              "    </tr>\n",
              "    <tr>\n",
              "      <th>40%</th>\n",
              "      <td>39.533802</td>\n",
              "      <td>-105.160888</td>\n",
              "      <td>121.000000</td>\n",
              "      <td>58.000000</td>\n",
              "    </tr>\n",
              "    <tr>\n",
              "      <th>50%</th>\n",
              "      <td>39.534777</td>\n",
              "      <td>-105.159512</td>\n",
              "      <td>124.000000</td>\n",
              "      <td>59.000000</td>\n",
              "    </tr>\n",
              "    <tr>\n",
              "      <th>60%</th>\n",
              "      <td>39.535238</td>\n",
              "      <td>-105.157649</td>\n",
              "      <td>127.000000</td>\n",
              "      <td>59.000000</td>\n",
              "    </tr>\n",
              "    <tr>\n",
              "      <th>70%</th>\n",
              "      <td>39.537025</td>\n",
              "      <td>-105.155891</td>\n",
              "      <td>131.000000</td>\n",
              "      <td>60.000000</td>\n",
              "    </tr>\n",
              "    <tr>\n",
              "      <th>80%</th>\n",
              "      <td>39.539751</td>\n",
              "      <td>-105.154925</td>\n",
              "      <td>141.000000</td>\n",
              "      <td>63.000000</td>\n",
              "    </tr>\n",
              "    <tr>\n",
              "      <th>90%</th>\n",
              "      <td>39.542444</td>\n",
              "      <td>-105.151380</td>\n",
              "      <td>156.000000</td>\n",
              "      <td>68.000000</td>\n",
              "    </tr>\n",
              "    <tr>\n",
              "      <th>max</th>\n",
              "      <td>39.544680</td>\n",
              "      <td>-105.148955</td>\n",
              "      <td>184.000000</td>\n",
              "      <td>93.000000</td>\n",
              "    </tr>\n",
              "  </tbody>\n",
              "</table>\n",
              "</div>\n",
              "      <button class=\"colab-df-convert\" onclick=\"convertToInteractive('df-95ff41c0-afa5-46bb-a6ce-85931bbd1f8b')\"\n",
              "              title=\"Convert this dataframe to an interactive table.\"\n",
              "              style=\"display:none;\">\n",
              "        \n",
              "  <svg xmlns=\"http://www.w3.org/2000/svg\" height=\"24px\"viewBox=\"0 0 24 24\"\n",
              "       width=\"24px\">\n",
              "    <path d=\"M0 0h24v24H0V0z\" fill=\"none\"/>\n",
              "    <path d=\"M18.56 5.44l.94 2.06.94-2.06 2.06-.94-2.06-.94-.94-2.06-.94 2.06-2.06.94zm-11 1L8.5 8.5l.94-2.06 2.06-.94-2.06-.94L8.5 2.5l-.94 2.06-2.06.94zm10 10l.94 2.06.94-2.06 2.06-.94-2.06-.94-.94-2.06-.94 2.06-2.06.94z\"/><path d=\"M17.41 7.96l-1.37-1.37c-.4-.4-.92-.59-1.43-.59-.52 0-1.04.2-1.43.59L10.3 9.45l-7.72 7.72c-.78.78-.78 2.05 0 2.83L4 21.41c.39.39.9.59 1.41.59.51 0 1.02-.2 1.41-.59l7.78-7.78 2.81-2.81c.8-.78.8-2.07 0-2.86zM5.41 20L4 18.59l7.72-7.72 1.47 1.35L5.41 20z\"/>\n",
              "  </svg>\n",
              "      </button>\n",
              "      \n",
              "  <style>\n",
              "    .colab-df-container {\n",
              "      display:flex;\n",
              "      flex-wrap:wrap;\n",
              "      gap: 12px;\n",
              "    }\n",
              "\n",
              "    .colab-df-convert {\n",
              "      background-color: #E8F0FE;\n",
              "      border: none;\n",
              "      border-radius: 50%;\n",
              "      cursor: pointer;\n",
              "      display: none;\n",
              "      fill: #1967D2;\n",
              "      height: 32px;\n",
              "      padding: 0 0 0 0;\n",
              "      width: 32px;\n",
              "    }\n",
              "\n",
              "    .colab-df-convert:hover {\n",
              "      background-color: #E2EBFA;\n",
              "      box-shadow: 0px 1px 2px rgba(60, 64, 67, 0.3), 0px 1px 3px 1px rgba(60, 64, 67, 0.15);\n",
              "      fill: #174EA6;\n",
              "    }\n",
              "\n",
              "    [theme=dark] .colab-df-convert {\n",
              "      background-color: #3B4455;\n",
              "      fill: #D2E3FC;\n",
              "    }\n",
              "\n",
              "    [theme=dark] .colab-df-convert:hover {\n",
              "      background-color: #434B5C;\n",
              "      box-shadow: 0px 1px 3px 1px rgba(0, 0, 0, 0.15);\n",
              "      filter: drop-shadow(0px 1px 2px rgba(0, 0, 0, 0.3));\n",
              "      fill: #FFFFFF;\n",
              "    }\n",
              "  </style>\n",
              "\n",
              "      <script>\n",
              "        const buttonEl =\n",
              "          document.querySelector('#df-95ff41c0-afa5-46bb-a6ce-85931bbd1f8b button.colab-df-convert');\n",
              "        buttonEl.style.display =\n",
              "          google.colab.kernel.accessAllowed ? 'block' : 'none';\n",
              "\n",
              "        async function convertToInteractive(key) {\n",
              "          const element = document.querySelector('#df-95ff41c0-afa5-46bb-a6ce-85931bbd1f8b');\n",
              "          const dataTable =\n",
              "            await google.colab.kernel.invokeFunction('convertToInteractive',\n",
              "                                                     [key], {});\n",
              "          if (!dataTable) return;\n",
              "\n",
              "          const docLinkHtml = 'Like what you see? Visit the ' +\n",
              "            '<a target=\"_blank\" href=https://colab.research.google.com/notebooks/data_table.ipynb>data table notebook</a>'\n",
              "            + ' to learn more about interactive tables.';\n",
              "          element.innerHTML = '';\n",
              "          dataTable['output_type'] = 'display_data';\n",
              "          await google.colab.output.renderOutput(dataTable, element);\n",
              "          const docLink = document.createElement('div');\n",
              "          docLink.innerHTML = docLinkHtml;\n",
              "          element.appendChild(docLink);\n",
              "        }\n",
              "      </script>\n",
              "    </div>\n",
              "  </div>\n",
              "  "
            ],
            "text/plain": [
              "               lat          lon           hr          cad\n",
              "count  6722.000000  6722.000000  6722.000000  6722.000000\n",
              "mean     39.535299  -105.159246   126.072895    53.939601\n",
              "std       0.004307     0.005165    20.264309    19.954574\n",
              "min      39.529147  -105.168793    80.000000     0.000000\n",
              "0%       39.529147  -105.168793    80.000000     0.000000\n",
              "10%      39.529875  -105.165529    95.000000     0.000000\n",
              "20%      39.530839  -105.164082   114.000000    53.000000\n",
              "30%      39.532800  -105.163447   118.000000    55.000000\n",
              "40%      39.533802  -105.160888   121.000000    58.000000\n",
              "50%      39.534777  -105.159512   124.000000    59.000000\n",
              "60%      39.535238  -105.157649   127.000000    59.000000\n",
              "70%      39.537025  -105.155891   131.000000    60.000000\n",
              "80%      39.539751  -105.154925   141.000000    63.000000\n",
              "90%      39.542444  -105.151380   156.000000    68.000000\n",
              "max      39.544680  -105.148955   184.000000    93.000000"
            ]
          },
          "metadata": {},
          "execution_count": 18
        }
      ]
    },
    {
      "cell_type": "code",
      "source": [
        "df['date_timestamp'].min()"
      ],
      "metadata": {
        "colab": {
          "base_uri": "https://localhost:8080/"
        },
        "id": "LPwHbf1C9Op0",
        "outputId": "b41446ce-8754-4f65-b738-bca65d5341ae"
      },
      "execution_count": 19,
      "outputs": [
        {
          "output_type": "execute_result",
          "data": {
            "text/plain": [
              "Timestamp('2021-06-19 17:47:48+0000', tz='UTC')"
            ]
          },
          "metadata": {},
          "execution_count": 19
        }
      ]
    },
    {
      "cell_type": "code",
      "source": [
        "run_time = df['date_timestamp'].max() - df['date_timestamp'].min()\n",
        "run_time.total_seconds()\n",
        "\n",
        "# Timedelta to other statistics, hour, minutes, seconds?\n",
        "# Finish the dual axis plot\n",
        "# Compute the distance between points"
      ],
      "metadata": {
        "colab": {
          "base_uri": "https://localhost:8080/"
        },
        "id": "rtia-lmw9Xji",
        "outputId": "c79db378-e795-439b-b316-afdbd6212542"
      },
      "execution_count": 20,
      "outputs": [
        {
          "output_type": "execute_result",
          "data": {
            "text/plain": [
              "6721.0"
            ]
          },
          "metadata": {},
          "execution_count": 20
        }
      ]
    },
    {
      "cell_type": "code",
      "source": [
        "ax1 = df.set_index('date_timestamp')['hr'].rolling(240).mean().plot(color='tab:orange')\n",
        "ax2 = df.set_index('date_timestamp')['cad'].rolling(240).mean().plot(secondary_y=True, color='tab:blue')\n",
        "ax1.set_ylabel(\"HR\", color='tab:orange')\n",
        "ax2.set_ylabel(\"Cadence\", color='tab:blue')\n",
        "plt.title(\"Heart Rate and Cadence\");"
      ],
      "metadata": {
        "colab": {
          "base_uri": "https://localhost:8080/",
          "height": 296
        },
        "id": "wn8ogL4DMgt7",
        "outputId": "ce9da724-aa97-4394-e2e7-9c272fa022ae"
      },
      "execution_count": 21,
      "outputs": [
        {
          "output_type": "display_data",
          "data": {
            "image/png": "[encoded data removed]",
            "text/plain": [
              "<Figure size 432x288 with 2 Axes>"
            ]
          },
          "metadata": {
            "needs_background": "light"
          }
        }
      ]
    },
    {
      "cell_type": "code",
      "source": [
        "import geopy.distance\n",
        "\n",
        "\n",
        "def get_distance_between_points(point1: tuple, point2: tuple):\n",
        "  try:\n",
        "    return geopy.distance.vincenty(point1, point2).m\n",
        "  except ValueError:\n",
        "    return 0\n",
        "\n",
        "df['prior_timestamp'] = df.date_timestamp.shift(1)\n",
        "df['prior_lat'] = df['lat'].shift(1)\n",
        "df['prior_lon'] = df.lon.shift(1)\n",
        "df['ll_tuple'] = df.apply(lambda row: (row.lat, row.lon), axis=1)\n",
        "df['ll_tuple_prev'] = df.apply(lambda row: (row.prior_lat, row.prior_lon), axis=1)\n",
        "df['dist_between'] = df.apply(lambda row: \n",
        "                              get_distance_between_points(row.ll_tuple, row.ll_tuple_prev)  \n",
        "                    ,axis=1)\n",
        "\n",
        "START_LAT_LON = df.iloc[0].ll_tuple\n",
        "START_TIME = df.iloc[0].date_timestamp\n",
        "\n",
        "df['dist_from_start_meters'] = df.apply(lambda row: get_distance_between_points(row.ll_tuple, START_LAT_LON), axis=1)\n",
        "df['time_since_run_began_seconds'] = df.apply(lambda row: (row.date_timestamp - START_TIME).total_seconds(), axis=1)\n",
        "\n",
        "# Time elapses since run began\n",
        "df.head()"
      ],
      "metadata": {
        "colab": {
          "base_uri": "https://localhost:8080/",
          "height": 357
        },
        "id": "02a2kFA-P0-V",
        "outputId": "1020bde0-fc88-4497-d37b-6941df6ee1f8"
      },
      "execution_count": 23,
      "outputs": [
        {
          "output_type": "execute_result",
          "data": {
            "text/html": [
              "\n",
              "  <div id=\"df-f24547a5-4173-4d40-b599-ad55ea9ba3c7\">\n",
              "    <div class=\"colab-df-container\">\n",
              "      <div>\n",
              "<style scoped>\n",
              "    .dataframe tbody tr th:only-of-type {\n",
              "        vertical-align: middle;\n",
              "    }\n",
              "\n",
              "    .dataframe tbody tr th {\n",
              "        vertical-align: top;\n",
              "    }\n",
              "\n",
              "    .dataframe thead th {\n",
              "        text-align: right;\n",
              "    }\n",
              "</style>\n",
              "<table border=\"1\" class=\"dataframe\">\n",
              "  <thead>\n",
              "    <tr style=\"text-align: right;\">\n",
              "      <th></th>\n",
              "      <th>lat</th>\n",
              "      <th>lon</th>\n",
              "      <th>time</th>\n",
              "      <th>hr</th>\n",
              "      <th>cad</th>\n",
              "      <th>date_timestamp</th>\n",
              "      <th>prior_timestamp</th>\n",
              "      <th>prior_lat</th>\n",
              "      <th>prior_lon</th>\n",
              "      <th>ll_tuple</th>\n",
              "      <th>ll_tuple_prev</th>\n",
              "      <th>dist_between</th>\n",
              "      <th>dist_from_start_meters</th>\n",
              "      <th>time_since_run_began_seconds</th>\n",
              "    </tr>\n",
              "  </thead>\n",
              "  <tbody>\n",
              "    <tr>\n",
              "      <th>0</th>\n",
              "      <td>39.543185</td>\n",
              "      <td>-105.152097</td>\n",
              "      <td>2021-06-19T17:47:48.000Z</td>\n",
              "      <td>93</td>\n",
              "      <td>58</td>\n",
              "      <td>2021-06-19 17:47:48+00:00</td>\n",
              "      <td>NaT</td>\n",
              "      <td>NaN</td>\n",
              "      <td>NaN</td>\n",
              "      <td>(39.543185234069824, -105.15209661796689)</td>\n",
              "      <td>(nan, nan)</td>\n",
              "      <td>0.000000</td>\n",
              "      <td>0.000000</td>\n",
              "      <td>0.0</td>\n",
              "    </tr>\n",
              "    <tr>\n",
              "      <th>1</th>\n",
              "      <td>39.543172</td>\n",
              "      <td>-105.152091</td>\n",
              "      <td>2021-06-19T17:47:49.000Z</td>\n",
              "      <td>93</td>\n",
              "      <td>0</td>\n",
              "      <td>2021-06-19 17:47:49+00:00</td>\n",
              "      <td>2021-06-19 17:47:48+00:00</td>\n",
              "      <td>39.543185</td>\n",
              "      <td>-105.152097</td>\n",
              "      <td>(39.54317224211991, -105.15209142118692)</td>\n",
              "      <td>(39.543185234069824, -105.15209661796689)</td>\n",
              "      <td>1.510031</td>\n",
              "      <td>1.510031</td>\n",
              "      <td>1.0</td>\n",
              "    </tr>\n",
              "    <tr>\n",
              "      <th>2</th>\n",
              "      <td>39.543157</td>\n",
              "      <td>-105.152090</td>\n",
              "      <td>2021-06-19T17:47:50.000Z</td>\n",
              "      <td>93</td>\n",
              "      <td>0</td>\n",
              "      <td>2021-06-19 17:47:50+00:00</td>\n",
              "      <td>2021-06-19 17:47:49+00:00</td>\n",
              "      <td>39.543172</td>\n",
              "      <td>-105.152091</td>\n",
              "      <td>(39.54315673559904, -105.15208974480629)</td>\n",
              "      <td>(39.54317224211991, -105.15209142118692)</td>\n",
              "      <td>1.727645</td>\n",
              "      <td>3.218755</td>\n",
              "      <td>2.0</td>\n",
              "    </tr>\n",
              "    <tr>\n",
              "      <th>3</th>\n",
              "      <td>39.543141</td>\n",
              "      <td>-105.152089</td>\n",
              "      <td>2021-06-19T17:47:51.000Z</td>\n",
              "      <td>93</td>\n",
              "      <td>0</td>\n",
              "      <td>2021-06-19 17:47:51+00:00</td>\n",
              "      <td>2021-06-19 17:47:50+00:00</td>\n",
              "      <td>39.543157</td>\n",
              "      <td>-105.152090</td>\n",
              "      <td>(39.543141312897205, -105.15208857133985)</td>\n",
              "      <td>(39.54315673559904, -105.15208974480629)</td>\n",
              "      <td>1.715287</td>\n",
              "      <td>4.925198</td>\n",
              "      <td>3.0</td>\n",
              "    </tr>\n",
              "    <tr>\n",
              "      <th>4</th>\n",
              "      <td>39.543125</td>\n",
              "      <td>-105.152091</td>\n",
              "      <td>2021-06-19T17:47:52.000Z</td>\n",
              "      <td>93</td>\n",
              "      <td>0</td>\n",
              "      <td>2021-06-19 17:47:52+00:00</td>\n",
              "      <td>2021-06-19 17:47:51+00:00</td>\n",
              "      <td>39.543141</td>\n",
              "      <td>-105.152089</td>\n",
              "      <td>(39.54312496818602, -105.15209091827273)</td>\n",
              "      <td>(39.543141312897205, -105.15208857133985)</td>\n",
              "      <td>1.825865</td>\n",
              "      <td>6.708986</td>\n",
              "      <td>4.0</td>\n",
              "    </tr>\n",
              "  </tbody>\n",
              "</table>\n",
              "</div>\n",
              "      <button class=\"colab-df-convert\" onclick=\"convertToInteractive('df-f24547a5-4173-4d40-b599-ad55ea9ba3c7')\"\n",
              "              title=\"Convert this dataframe to an interactive table.\"\n",
              "              style=\"display:none;\">\n",
              "        \n",
              "  <svg xmlns=\"http://www.w3.org/2000/svg\" height=\"24px\"viewBox=\"0 0 24 24\"\n",
              "       width=\"24px\">\n",
              "    <path d=\"M0 0h24v24H0V0z\" fill=\"none\"/>\n",
              "    <path d=\"M18.56 5.44l.94 2.06.94-2.06 2.06-.94-2.06-.94-.94-2.06-.94 2.06-2.06.94zm-11 1L8.5 8.5l.94-2.06 2.06-.94-2.06-.94L8.5 2.5l-.94 2.06-2.06.94zm10 10l.94 2.06.94-2.06 2.06-.94-2.06-.94-.94-2.06-.94 2.06-2.06.94z\"/><path d=\"M17.41 7.96l-1.37-1.37c-.4-.4-.92-.59-1.43-.59-.52 0-1.04.2-1.43.59L10.3 9.45l-7.72 7.72c-.78.78-.78 2.05 0 2.83L4 21.41c.39.39.9.59 1.41.59.51 0 1.02-.2 1.41-.59l7.78-7.78 2.81-2.81c.8-.78.8-2.07 0-2.86zM5.41 20L4 18.59l7.72-7.72 1.47 1.35L5.41 20z\"/>\n",
              "  </svg>\n",
              "      </button>\n",
              "      \n",
              "  <style>\n",
              "    .colab-df-container {\n",
              "      display:flex;\n",
              "      flex-wrap:wrap;\n",
              "      gap: 12px;\n",
              "    }\n",
              "\n",
              "    .colab-df-convert {\n",
              "      background-color: #E8F0FE;\n",
              "      border: none;\n",
              "      border-radius: 50%;\n",
              "      cursor: pointer;\n",
              "      display: none;\n",
              "      fill: #1967D2;\n",
              "      height: 32px;\n",
              "      padding: 0 0 0 0;\n",
              "      width: 32px;\n",
              "    }\n",
              "\n",
              "    .colab-df-convert:hover {\n",
              "      background-color: #E2EBFA;\n",
              "      box-shadow: 0px 1px 2px rgba(60, 64, 67, 0.3), 0px 1px 3px 1px rgba(60, 64, 67, 0.15);\n",
              "      fill: #174EA6;\n",
              "    }\n",
              "\n",
              "    [theme=dark] .colab-df-convert {\n",
              "      background-color: #3B4455;\n",
              "      fill: #D2E3FC;\n",
              "    }\n",
              "\n",
              "    [theme=dark] .colab-df-convert:hover {\n",
              "      background-color: #434B5C;\n",
              "      box-shadow: 0px 1px 3px 1px rgba(0, 0, 0, 0.15);\n",
              "      filter: drop-shadow(0px 1px 2px rgba(0, 0, 0, 0.3));\n",
              "      fill: #FFFFFF;\n",
              "    }\n",
              "  </style>\n",
              "\n",
              "      <script>\n",
              "        const buttonEl =\n",
              "          document.querySelector('#df-f24547a5-4173-4d40-b599-ad55ea9ba3c7 button.colab-df-convert');\n",
              "        buttonEl.style.display =\n",
              "          google.colab.kernel.accessAllowed ? 'block' : 'none';\n",
              "\n",
              "        async function convertToInteractive(key) {\n",
              "          const element = document.querySelector('#df-f24547a5-4173-4d40-b599-ad55ea9ba3c7');\n",
              "          const dataTable =\n",
              "            await google.colab.kernel.invokeFunction('convertToInteractive',\n",
              "                                                     [key], {});\n",
              "          if (!dataTable) return;\n",
              "\n",
              "          const docLinkHtml = 'Like what you see? Visit the ' +\n",
              "            '<a target=\"_blank\" href=https://colab.research.google.com/notebooks/data_table.ipynb>data table notebook</a>'\n",
              "            + ' to learn more about interactive tables.';\n",
              "          element.innerHTML = '';\n",
              "          dataTable['output_type'] = 'display_data';\n",
              "          await google.colab.output.renderOutput(dataTable, element);\n",
              "          const docLink = document.createElement('div');\n",
              "          docLink.innerHTML = docLinkHtml;\n",
              "          element.appendChild(docLink);\n",
              "        }\n",
              "      </script>\n",
              "    </div>\n",
              "  </div>\n",
              "  "
            ],
            "text/plain": [
              "         lat         lon  ... dist_from_start_meters  time_since_run_began_seconds\n",
              "0  39.543185 -105.152097  ...               0.000000                           0.0\n",
              "1  39.543172 -105.152091  ...               1.510031                           1.0\n",
              "2  39.543157 -105.152090  ...               3.218755                           2.0\n",
              "3  39.543141 -105.152089  ...               4.925198                           3.0\n",
              "4  39.543125 -105.152091  ...               6.708986                           4.0\n",
              "\n",
              "[5 rows x 14 columns]"
            ]
          },
          "metadata": {},
          "execution_count": 23
        }
      ]
    },
    {
      "cell_type": "code",
      "source": [
        "# What's the avg distance traveled second by second? \n",
        "# At what point was I furthest from my starting point?\n",
        "\n",
        "df[df['dist_between'] < 2.25]['dist_between'].hist(bins=20)"
      ],
      "metadata": {
        "id": "oYuVlP7WWBf9"
      },
      "execution_count": null,
      "outputs": []
    },
    {
      "cell_type": "code",
      "source": [
        "df.set_index('date_timestamp').dist_from_start.plot()"
      ],
      "metadata": {
        "id": "n0hFyyVcP7OE"
      },
      "execution_count": null,
      "outputs": []
    },
    {
      "cell_type": "code",
      "source": [
        "# Calculate the elevation at any given datapoint. How HIgh was I at max height\n",
        "# How high was I during the run?\n",
        "# Do i need to call the API 6700 times?\n",
        "\n",
        "# https://nationalmap.gov/epqs/\n",
        "\n",
        "def gen_url(lat_lon: tuple):\n",
        "  lon = lat_lon[1]\n",
        "  lat = lat_lon[0]\n",
        "  return f\"https://nationalmap.gov/epqs/pqs.php?x={lon}&y={lat}&units=Feet&output=json\"\n",
        "\n",
        "\n",
        "df['geo_url'] = df.ll_tuple.map(gen_url)\n",
        "# Try to use requests and .mpa to fetch the endpoint. 6700 requests. \n",
        "df.head()"
      ],
      "metadata": {
        "colab": {
          "base_uri": "https://localhost:8080/",
          "height": 357
        },
        "id": "0RN3-IgdZT9v",
        "outputId": "53754fc1-ff20-43c2-ba7a-57c8dd5eda5d"
      },
      "execution_count": 25,
      "outputs": [
        {
          "output_type": "execute_result",
          "data": {
            "text/html": [
              "\n",
              "  <div id=\"df-0e80d2dd-fa17-47a5-bc8e-155c519947e5\">\n",
              "    <div class=\"colab-df-container\">\n",
              "      <div>\n",
              "<style scoped>\n",
              "    .dataframe tbody tr th:only-of-type {\n",
              "        vertical-align: middle;\n",
              "    }\n",
              "\n",
              "    .dataframe tbody tr th {\n",
              "        vertical-align: top;\n",
              "    }\n",
              "\n",
              "    .dataframe thead th {\n",
              "        text-align: right;\n",
              "    }\n",
              "</style>\n",
              "<table border=\"1\" class=\"dataframe\">\n",
              "  <thead>\n",
              "    <tr style=\"text-align: right;\">\n",
              "      <th></th>\n",
              "      <th>lat</th>\n",
              "      <th>lon</th>\n",
              "      <th>time</th>\n",
              "      <th>hr</th>\n",
              "      <th>cad</th>\n",
              "      <th>date_timestamp</th>\n",
              "      <th>prior_timestamp</th>\n",
              "      <th>prior_lat</th>\n",
              "      <th>prior_lon</th>\n",
              "      <th>ll_tuple</th>\n",
              "      <th>ll_tuple_prev</th>\n",
              "      <th>dist_between</th>\n",
              "      <th>dist_from_start_meters</th>\n",
              "      <th>time_since_run_began_seconds</th>\n",
              "      <th>geo_url</th>\n",
              "    </tr>\n",
              "  </thead>\n",
              "  <tbody>\n",
              "    <tr>\n",
              "      <th>0</th>\n",
              "      <td>39.543185</td>\n",
              "      <td>-105.152097</td>\n",
              "      <td>2021-06-19T17:47:48.000Z</td>\n",
              "      <td>93</td>\n",
              "      <td>58</td>\n",
              "      <td>2021-06-19 17:47:48+00:00</td>\n",
              "      <td>NaT</td>\n",
              "      <td>NaN</td>\n",
              "      <td>NaN</td>\n",
              "      <td>(39.543185234069824, -105.15209661796689)</td>\n",
              "      <td>(nan, nan)</td>\n",
              "      <td>0.000000</td>\n",
              "      <td>0.000000</td>\n",
              "      <td>0.0</td>\n",
              "      <td>https://nationalmap.gov/epqs/pqs.php?x=-105.15...</td>\n",
              "    </tr>\n",
              "    <tr>\n",
              "      <th>1</th>\n",
              "      <td>39.543172</td>\n",
              "      <td>-105.152091</td>\n",
              "      <td>2021-06-19T17:47:49.000Z</td>\n",
              "      <td>93</td>\n",
              "      <td>0</td>\n",
              "      <td>2021-06-19 17:47:49+00:00</td>\n",
              "      <td>2021-06-19 17:47:48+00:00</td>\n",
              "      <td>39.543185</td>\n",
              "      <td>-105.152097</td>\n",
              "      <td>(39.54317224211991, -105.15209142118692)</td>\n",
              "      <td>(39.543185234069824, -105.15209661796689)</td>\n",
              "      <td>1.510031</td>\n",
              "      <td>1.510031</td>\n",
              "      <td>1.0</td>\n",
              "      <td>https://nationalmap.gov/epqs/pqs.php?x=-105.15...</td>\n",
              "    </tr>\n",
              "    <tr>\n",
              "      <th>2</th>\n",
              "      <td>39.543157</td>\n",
              "      <td>-105.152090</td>\n",
              "      <td>2021-06-19T17:47:50.000Z</td>\n",
              "      <td>93</td>\n",
              "      <td>0</td>\n",
              "      <td>2021-06-19 17:47:50+00:00</td>\n",
              "      <td>2021-06-19 17:47:49+00:00</td>\n",
              "      <td>39.543172</td>\n",
              "      <td>-105.152091</td>\n",
              "      <td>(39.54315673559904, -105.15208974480629)</td>\n",
              "      <td>(39.54317224211991, -105.15209142118692)</td>\n",
              "      <td>1.727645</td>\n",
              "      <td>3.218755</td>\n",
              "      <td>2.0</td>\n",
              "      <td>https://nationalmap.gov/epqs/pqs.php?x=-105.15...</td>\n",
              "    </tr>\n",
              "    <tr>\n",
              "      <th>3</th>\n",
              "      <td>39.543141</td>\n",
              "      <td>-105.152089</td>\n",
              "      <td>2021-06-19T17:47:51.000Z</td>\n",
              "      <td>93</td>\n",
              "      <td>0</td>\n",
              "      <td>2021-06-19 17:47:51+00:00</td>\n",
              "      <td>2021-06-19 17:47:50+00:00</td>\n",
              "      <td>39.543157</td>\n",
              "      <td>-105.152090</td>\n",
              "      <td>(39.543141312897205, -105.15208857133985)</td>\n",
              "      <td>(39.54315673559904, -105.15208974480629)</td>\n",
              "      <td>1.715287</td>\n",
              "      <td>4.925198</td>\n",
              "      <td>3.0</td>\n",
              "      <td>https://nationalmap.gov/epqs/pqs.php?x=-105.15...</td>\n",
              "    </tr>\n",
              "    <tr>\n",
              "      <th>4</th>\n",
              "      <td>39.543125</td>\n",
              "      <td>-105.152091</td>\n",
              "      <td>2021-06-19T17:47:52.000Z</td>\n",
              "      <td>93</td>\n",
              "      <td>0</td>\n",
              "      <td>2021-06-19 17:47:52+00:00</td>\n",
              "      <td>2021-06-19 17:47:51+00:00</td>\n",
              "      <td>39.543141</td>\n",
              "      <td>-105.152089</td>\n",
              "      <td>(39.54312496818602, -105.15209091827273)</td>\n",
              "      <td>(39.543141312897205, -105.15208857133985)</td>\n",
              "      <td>1.825865</td>\n",
              "      <td>6.708986</td>\n",
              "      <td>4.0</td>\n",
              "      <td>https://nationalmap.gov/epqs/pqs.php?x=-105.15...</td>\n",
              "    </tr>\n",
              "  </tbody>\n",
              "</table>\n",
              "</div>\n",
              "      <button class=\"colab-df-convert\" onclick=\"convertToInteractive('df-0e80d2dd-fa17-47a5-bc8e-155c519947e5')\"\n",
              "              title=\"Convert this dataframe to an interactive table.\"\n",
              "              style=\"display:none;\">\n",
              "        \n",
              "  <svg xmlns=\"http://www.w3.org/2000/svg\" height=\"24px\"viewBox=\"0 0 24 24\"\n",
              "       width=\"24px\">\n",
              "    <path d=\"M0 0h24v24H0V0z\" fill=\"none\"/>\n",
              "    <path d=\"M18.56 5.44l.94 2.06.94-2.06 2.06-.94-2.06-.94-.94-2.06-.94 2.06-2.06.94zm-11 1L8.5 8.5l.94-2.06 2.06-.94-2.06-.94L8.5 2.5l-.94 2.06-2.06.94zm10 10l.94 2.06.94-2.06 2.06-.94-2.06-.94-.94-2.06-.94 2.06-2.06.94z\"/><path d=\"M17.41 7.96l-1.37-1.37c-.4-.4-.92-.59-1.43-.59-.52 0-1.04.2-1.43.59L10.3 9.45l-7.72 7.72c-.78.78-.78 2.05 0 2.83L4 21.41c.39.39.9.59 1.41.59.51 0 1.02-.2 1.41-.59l7.78-7.78 2.81-2.81c.8-.78.8-2.07 0-2.86zM5.41 20L4 18.59l7.72-7.72 1.47 1.35L5.41 20z\"/>\n",
              "  </svg>\n",
              "      </button>\n",
              "      \n",
              "  <style>\n",
              "    .colab-df-container {\n",
              "      display:flex;\n",
              "      flex-wrap:wrap;\n",
              "      gap: 12px;\n",
              "    }\n",
              "\n",
              "    .colab-df-convert {\n",
              "      background-color: #E8F0FE;\n",
              "      border: none;\n",
              "      border-radius: 50%;\n",
              "      cursor: pointer;\n",
              "      display: none;\n",
              "      fill: #1967D2;\n",
              "      height: 32px;\n",
              "      padding: 0 0 0 0;\n",
              "      width: 32px;\n",
              "    }\n",
              "\n",
              "    .colab-df-convert:hover {\n",
              "      background-color: #E2EBFA;\n",
              "      box-shadow: 0px 1px 2px rgba(60, 64, 67, 0.3), 0px 1px 3px 1px rgba(60, 64, 67, 0.15);\n",
              "      fill: #174EA6;\n",
              "    }\n",
              "\n",
              "    [theme=dark] .colab-df-convert {\n",
              "      background-color: #3B4455;\n",
              "      fill: #D2E3FC;\n",
              "    }\n",
              "\n",
              "    [theme=dark] .colab-df-convert:hover {\n",
              "      background-color: #434B5C;\n",
              "      box-shadow: 0px 1px 3px 1px rgba(0, 0, 0, 0.15);\n",
              "      filter: drop-shadow(0px 1px 2px rgba(0, 0, 0, 0.3));\n",
              "      fill: #FFFFFF;\n",
              "    }\n",
              "  </style>\n",
              "\n",
              "      <script>\n",
              "        const buttonEl =\n",
              "          document.querySelector('#df-0e80d2dd-fa17-47a5-bc8e-155c519947e5 button.colab-df-convert');\n",
              "        buttonEl.style.display =\n",
              "          google.colab.kernel.accessAllowed ? 'block' : 'none';\n",
              "\n",
              "        async function convertToInteractive(key) {\n",
              "          const element = document.querySelector('#df-0e80d2dd-fa17-47a5-bc8e-155c519947e5');\n",
              "          const dataTable =\n",
              "            await google.colab.kernel.invokeFunction('convertToInteractive',\n",
              "                                                     [key], {});\n",
              "          if (!dataTable) return;\n",
              "\n",
              "          const docLinkHtml = 'Like what you see? Visit the ' +\n",
              "            '<a target=\"_blank\" href=https://colab.research.google.com/notebooks/data_table.ipynb>data table notebook</a>'\n",
              "            + ' to learn more about interactive tables.';\n",
              "          element.innerHTML = '';\n",
              "          dataTable['output_type'] = 'display_data';\n",
              "          await google.colab.output.renderOutput(dataTable, element);\n",
              "          const docLink = document.createElement('div');\n",
              "          docLink.innerHTML = docLinkHtml;\n",
              "          element.appendChild(docLink);\n",
              "        }\n",
              "      </script>\n",
              "    </div>\n",
              "  </div>\n",
              "  "
            ],
            "text/plain": [
              "         lat  ...                                            geo_url\n",
              "0  39.543185  ...  https://nationalmap.gov/epqs/pqs.php?x=-105.15...\n",
              "1  39.543172  ...  https://nationalmap.gov/epqs/pqs.php?x=-105.15...\n",
              "2  39.543157  ...  https://nationalmap.gov/epqs/pqs.php?x=-105.15...\n",
              "3  39.543141  ...  https://nationalmap.gov/epqs/pqs.php?x=-105.15...\n",
              "4  39.543125  ...  https://nationalmap.gov/epqs/pqs.php?x=-105.15...\n",
              "\n",
              "[5 rows x 15 columns]"
            ]
          },
          "metadata": {},
          "execution_count": 25
        }
      ]
    },
    {
      "cell_type": "code",
      "source": [
        "def get_geo_feet_response(url) -> float:\n",
        "  resp = requests.get(url)\n",
        "  if resp.status_code == 200:\n",
        "    try:\n",
        "      return float(resp.json()['USGS_Elevation_Point_Query_Service']['Elevation_Query']['Elevation'])\n",
        "    except KeyError:\n",
        "      print(f'missing key {url}')\n",
        "      return 0.0\n",
        "  else:\n",
        "    print(f'something went wrong at {url}')\n",
        "    return 0.0\n",
        "\n",
        "\n",
        "sample_df = df.sample(100)\n",
        "sample_df['elevation_feet'] = sample_df.geo_url.map(get_geo_feet_response)\n",
        "sample_df.head()"
      ],
      "metadata": {
        "colab": {
          "base_uri": "https://localhost:8080/",
          "height": 357
        },
        "id": "rEVSdc7HZYqH",
        "outputId": "0fa6706e-387c-40cb-9fe6-610ba1840c74"
      },
      "execution_count": 55,
      "outputs": [
        {
          "output_type": "execute_result",
          "data": {
            "text/html": [
              "\n",
              "  <div id=\"df-ae5486ea-acfa-4174-b795-ed56c35cbf18\">\n",
              "    <div class=\"colab-df-container\">\n",
              "      <div>\n",
              "<style scoped>\n",
              "    .dataframe tbody tr th:only-of-type {\n",
              "        vertical-align: middle;\n",
              "    }\n",
              "\n",
              "    .dataframe tbody tr th {\n",
              "        vertical-align: top;\n",
              "    }\n",
              "\n",
              "    .dataframe thead th {\n",
              "        text-align: right;\n",
              "    }\n",
              "</style>\n",
              "<table border=\"1\" class=\"dataframe\">\n",
              "  <thead>\n",
              "    <tr style=\"text-align: right;\">\n",
              "      <th></th>\n",
              "      <th>lat</th>\n",
              "      <th>lon</th>\n",
              "      <th>time</th>\n",
              "      <th>hr</th>\n",
              "      <th>cad</th>\n",
              "      <th>date_timestamp</th>\n",
              "      <th>prior_timestamp</th>\n",
              "      <th>prior_lat</th>\n",
              "      <th>prior_lon</th>\n",
              "      <th>ll_tuple</th>\n",
              "      <th>ll_tuple_prev</th>\n",
              "      <th>dist_between</th>\n",
              "      <th>dist_from_start_meters</th>\n",
              "      <th>time_since_run_began_seconds</th>\n",
              "      <th>geo_url</th>\n",
              "      <th>elevation_feet</th>\n",
              "    </tr>\n",
              "  </thead>\n",
              "  <tbody>\n",
              "    <tr>\n",
              "      <th>775</th>\n",
              "      <td>39.537343</td>\n",
              "      <td>-105.151529</td>\n",
              "      <td>2021-06-19T18:00:43.000Z</td>\n",
              "      <td>110</td>\n",
              "      <td>0</td>\n",
              "      <td>2021-06-19 18:00:43+00:00</td>\n",
              "      <td>2021-06-19 18:00:42+00:00</td>\n",
              "      <td>39.537341</td>\n",
              "      <td>-105.151519</td>\n",
              "      <td>(39.53734313137829, -105.15152874402702)</td>\n",
              "      <td>(39.53734086826444, -105.15151893720031)</td>\n",
              "      <td>0.879710</td>\n",
              "      <td>650.458607</td>\n",
              "      <td>775.0</td>\n",
              "      <td>https://nationalmap.gov/epqs/pqs.php?x=-105.15...</td>\n",
              "      <td>6264.89</td>\n",
              "    </tr>\n",
              "    <tr>\n",
              "      <th>1600</th>\n",
              "      <td>39.534737</td>\n",
              "      <td>-105.158652</td>\n",
              "      <td>2021-06-19T18:14:28.000Z</td>\n",
              "      <td>119</td>\n",
              "      <td>48</td>\n",
              "      <td>2021-06-19 18:14:28+00:00</td>\n",
              "      <td>2021-06-19 18:14:27+00:00</td>\n",
              "      <td>39.534745</td>\n",
              "      <td>-105.158640</td>\n",
              "      <td>(39.53473728150129, -105.15865243971348)</td>\n",
              "      <td>(39.534744657576084, -105.15863978303969)</td>\n",
              "      <td>1.361840</td>\n",
              "      <td>1094.233895</td>\n",
              "      <td>1600.0</td>\n",
              "      <td>https://nationalmap.gov/epqs/pqs.php?x=-105.15...</td>\n",
              "      <td>6601.19</td>\n",
              "    </tr>\n",
              "    <tr>\n",
              "      <th>6583</th>\n",
              "      <td>39.542768</td>\n",
              "      <td>-105.154756</td>\n",
              "      <td>2021-06-19T19:37:31.000Z</td>\n",
              "      <td>156</td>\n",
              "      <td>61</td>\n",
              "      <td>2021-06-19 19:37:31+00:00</td>\n",
              "      <td>2021-06-19 19:37:30+00:00</td>\n",
              "      <td>39.542750</td>\n",
              "      <td>-105.154772</td>\n",
              "      <td>(39.542768402025104, -105.15475552529097)</td>\n",
              "      <td>(39.54275029711425, -105.15477228909731)</td>\n",
              "      <td>2.473278</td>\n",
              "      <td>233.199049</td>\n",
              "      <td>6583.0</td>\n",
              "      <td>https://nationalmap.gov/epqs/pqs.php?x=-105.15...</td>\n",
              "      <td>6167.78</td>\n",
              "    </tr>\n",
              "    <tr>\n",
              "      <th>1072</th>\n",
              "      <td>39.536119</td>\n",
              "      <td>-105.155301</td>\n",
              "      <td>2021-06-19T18:05:40.000Z</td>\n",
              "      <td>121</td>\n",
              "      <td>0</td>\n",
              "      <td>2021-06-19 18:05:40+00:00</td>\n",
              "      <td>2021-06-19 18:05:39+00:00</td>\n",
              "      <td>39.536126</td>\n",
              "      <td>-105.155291</td>\n",
              "      <td>(39.536118786782026, -105.1553008519113)</td>\n",
              "      <td>(39.53612624667585, -105.15529146417975)</td>\n",
              "      <td>1.156422</td>\n",
              "      <td>831.507149</td>\n",
              "      <td>1072.0</td>\n",
              "      <td>https://nationalmap.gov/epqs/pqs.php?x=-105.15...</td>\n",
              "      <td>6391.97</td>\n",
              "    </tr>\n",
              "    <tr>\n",
              "      <th>3889</th>\n",
              "      <td>39.535259</td>\n",
              "      <td>-105.164326</td>\n",
              "      <td>2021-06-19T18:52:37.000Z</td>\n",
              "      <td>153</td>\n",
              "      <td>79</td>\n",
              "      <td>2021-06-19 18:52:37+00:00</td>\n",
              "      <td>2021-06-19 18:52:36+00:00</td>\n",
              "      <td>39.535250</td>\n",
              "      <td>-105.164347</td>\n",
              "      <td>(39.53525939024985, -105.16432606615126)</td>\n",
              "      <td>(39.535250002518296, -105.1643467694521)</td>\n",
              "      <td>2.062578</td>\n",
              "      <td>1370.983293</td>\n",
              "      <td>3889.0</td>\n",
              "      <td>https://nationalmap.gov/epqs/pqs.php?x=-105.16...</td>\n",
              "      <td>7101.50</td>\n",
              "    </tr>\n",
              "  </tbody>\n",
              "</table>\n",
              "</div>\n",
              "      <button class=\"colab-df-convert\" onclick=\"convertToInteractive('df-ae5486ea-acfa-4174-b795-ed56c35cbf18')\"\n",
              "              title=\"Convert this dataframe to an interactive table.\"\n",
              "              style=\"display:none;\">\n",
              "        \n",
              "  <svg xmlns=\"http://www.w3.org/2000/svg\" height=\"24px\"viewBox=\"0 0 24 24\"\n",
              "       width=\"24px\">\n",
              "    <path d=\"M0 0h24v24H0V0z\" fill=\"none\"/>\n",
              "    <path d=\"M18.56 5.44l.94 2.06.94-2.06 2.06-.94-2.06-.94-.94-2.06-.94 2.06-2.06.94zm-11 1L8.5 8.5l.94-2.06 2.06-.94-2.06-.94L8.5 2.5l-.94 2.06-2.06.94zm10 10l.94 2.06.94-2.06 2.06-.94-2.06-.94-.94-2.06-.94 2.06-2.06.94z\"/><path d=\"M17.41 7.96l-1.37-1.37c-.4-.4-.92-.59-1.43-.59-.52 0-1.04.2-1.43.59L10.3 9.45l-7.72 7.72c-.78.78-.78 2.05 0 2.83L4 21.41c.39.39.9.59 1.41.59.51 0 1.02-.2 1.41-.59l7.78-7.78 2.81-2.81c.8-.78.8-2.07 0-2.86zM5.41 20L4 18.59l7.72-7.72 1.47 1.35L5.41 20z\"/>\n",
              "  </svg>\n",
              "      </button>\n",
              "      \n",
              "  <style>\n",
              "    .colab-df-container {\n",
              "      display:flex;\n",
              "      flex-wrap:wrap;\n",
              "      gap: 12px;\n",
              "    }\n",
              "\n",
              "    .colab-df-convert {\n",
              "      background-color: #E8F0FE;\n",
              "      border: none;\n",
              "      border-radius: 50%;\n",
              "      cursor: pointer;\n",
              "      display: none;\n",
              "      fill: #1967D2;\n",
              "      height: 32px;\n",
              "      padding: 0 0 0 0;\n",
              "      width: 32px;\n",
              "    }\n",
              "\n",
              "    .colab-df-convert:hover {\n",
              "      background-color: #E2EBFA;\n",
              "      box-shadow: 0px 1px 2px rgba(60, 64, 67, 0.3), 0px 1px 3px 1px rgba(60, 64, 67, 0.15);\n",
              "      fill: #174EA6;\n",
              "    }\n",
              "\n",
              "    [theme=dark] .colab-df-convert {\n",
              "      background-color: #3B4455;\n",
              "      fill: #D2E3FC;\n",
              "    }\n",
              "\n",
              "    [theme=dark] .colab-df-convert:hover {\n",
              "      background-color: #434B5C;\n",
              "      box-shadow: 0px 1px 3px 1px rgba(0, 0, 0, 0.15);\n",
              "      filter: drop-shadow(0px 1px 2px rgba(0, 0, 0, 0.3));\n",
              "      fill: #FFFFFF;\n",
              "    }\n",
              "  </style>\n",
              "\n",
              "      <script>\n",
              "        const buttonEl =\n",
              "          document.querySelector('#df-ae5486ea-acfa-4174-b795-ed56c35cbf18 button.colab-df-convert');\n",
              "        buttonEl.style.display =\n",
              "          google.colab.kernel.accessAllowed ? 'block' : 'none';\n",
              "\n",
              "        async function convertToInteractive(key) {\n",
              "          const element = document.querySelector('#df-ae5486ea-acfa-4174-b795-ed56c35cbf18');\n",
              "          const dataTable =\n",
              "            await google.colab.kernel.invokeFunction('convertToInteractive',\n",
              "                                                     [key], {});\n",
              "          if (!dataTable) return;\n",
              "\n",
              "          const docLinkHtml = 'Like what you see? Visit the ' +\n",
              "            '<a target=\"_blank\" href=https://colab.research.google.com/notebooks/data_table.ipynb>data table notebook</a>'\n",
              "            + ' to learn more about interactive tables.';\n",
              "          element.innerHTML = '';\n",
              "          dataTable['output_type'] = 'display_data';\n",
              "          await google.colab.output.renderOutput(dataTable, element);\n",
              "          const docLink = document.createElement('div');\n",
              "          docLink.innerHTML = docLinkHtml;\n",
              "          element.appendChild(docLink);\n",
              "        }\n",
              "      </script>\n",
              "    </div>\n",
              "  </div>\n",
              "  "
            ],
            "text/plain": [
              "            lat  ...  elevation_feet\n",
              "775   39.537343  ...         6264.89\n",
              "1600  39.534737  ...         6601.19\n",
              "6583  39.542768  ...         6167.78\n",
              "1072  39.536119  ...         6391.97\n",
              "3889  39.535259  ...         7101.50\n",
              "\n",
              "[5 rows x 16 columns]"
            ]
          },
          "metadata": {},
          "execution_count": 55
        }
      ]
    },
    {
      "cell_type": "code",
      "source": [
        "def get_api_response(lat_lon: tuple):\n",
        "  lon = lat_lon[1]\n",
        "  lat = lat_lon[0]\n",
        "  url = f\"https://nationalmap.gov/epqs/pqs.php?x={lon}&y={lat}&units=Feet&output=json\"\n",
        "  # print(url)\n",
        "  \n",
        "  resp = requests.get(url)\n",
        "  if resp.status_code == 200:\n",
        "    return resp.json()\n",
        "  return {}\n",
        "\n",
        "# ['USGS_Elevation_Point_Query_Service']['Elevation_Query']['Elevation']\n",
        "sample_df = df.sample(5)\n",
        "sample_df['geo_response'] = sample_df.ll_tuple.map(get_api_response)\n",
        "sample_df['elevation_feet'] = sample_df.geo_response.map(lambda x: \n",
        "                              x['USGS_Elevation_Point_Query_Service']['Elevation_Query']['Elevation']\n",
        ")\n",
        "sample_df.head()"
      ],
      "metadata": {
        "colab": {
          "base_uri": "https://localhost:8080/",
          "height": 357
        },
        "id": "Z_vyKVYLjfV9",
        "outputId": "bcfe86a3-0bde-4f82-8f50-4185efe05b02"
      },
      "execution_count": 64,
      "outputs": [
        {
          "output_type": "execute_result",
          "data": {
            "text/html": [
              "\n",
              "  <div id=\"df-aa7baa58-33a3-49e3-8a24-d4555d48eb1c\">\n",
              "    <div class=\"colab-df-container\">\n",
              "      <div>\n",
              "<style scoped>\n",
              "    .dataframe tbody tr th:only-of-type {\n",
              "        vertical-align: middle;\n",
              "    }\n",
              "\n",
              "    .dataframe tbody tr th {\n",
              "        vertical-align: top;\n",
              "    }\n",
              "\n",
              "    .dataframe thead th {\n",
              "        text-align: right;\n",
              "    }\n",
              "</style>\n",
              "<table border=\"1\" class=\"dataframe\">\n",
              "  <thead>\n",
              "    <tr style=\"text-align: right;\">\n",
              "      <th></th>\n",
              "      <th>lat</th>\n",
              "      <th>lon</th>\n",
              "      <th>time</th>\n",
              "      <th>hr</th>\n",
              "      <th>cad</th>\n",
              "      <th>date_timestamp</th>\n",
              "      <th>prior_timestamp</th>\n",
              "      <th>prior_lat</th>\n",
              "      <th>prior_lon</th>\n",
              "      <th>ll_tuple</th>\n",
              "      <th>ll_tuple_prev</th>\n",
              "      <th>dist_between</th>\n",
              "      <th>dist_from_start_meters</th>\n",
              "      <th>time_since_run_began_seconds</th>\n",
              "      <th>geo_url</th>\n",
              "      <th>geo_response</th>\n",
              "      <th>elevation_feet</th>\n",
              "    </tr>\n",
              "  </thead>\n",
              "  <tbody>\n",
              "    <tr>\n",
              "      <th>6374</th>\n",
              "      <td>39.543895</td>\n",
              "      <td>-105.157477</td>\n",
              "      <td>2021-06-19T19:34:02.000Z</td>\n",
              "      <td>145</td>\n",
              "      <td>61</td>\n",
              "      <td>2021-06-19 19:34:02+00:00</td>\n",
              "      <td>2021-06-19 19:34:01+00:00</td>\n",
              "      <td>39.543910</td>\n",
              "      <td>-105.157479</td>\n",
              "      <td>(39.543894762173295, -105.15747712925076)</td>\n",
              "      <td>(39.543910436332226, -105.1574785541743)</td>\n",
              "      <td>1.744542</td>\n",
              "      <td>469.168033</td>\n",
              "      <td>6374.0</td>\n",
              "      <td>https://nationalmap.gov/epqs/pqs.php?x=-105.15...</td>\n",
              "      <td>{'USGS_Elevation_Point_Query_Service': {'Eleva...</td>\n",
              "      <td>6232.13</td>\n",
              "    </tr>\n",
              "    <tr>\n",
              "      <th>935</th>\n",
              "      <td>39.536602</td>\n",
              "      <td>-105.153797</td>\n",
              "      <td>2021-06-19T18:03:23.000Z</td>\n",
              "      <td>114</td>\n",
              "      <td>0</td>\n",
              "      <td>2021-06-19 18:03:23+00:00</td>\n",
              "      <td>2021-06-19 18:03:22+00:00</td>\n",
              "      <td>39.536609</td>\n",
              "      <td>-105.153782</td>\n",
              "      <td>(39.5366020873189, -105.15379663556814)</td>\n",
              "      <td>(39.53660946339369, -105.15378238633275)</td>\n",
              "      <td>1.473507</td>\n",
              "      <td>745.366143</td>\n",
              "      <td>935.0</td>\n",
              "      <td>https://nationalmap.gov/epqs/pqs.php?x=-105.15...</td>\n",
              "      <td>{'USGS_Elevation_Point_Query_Service': {'Eleva...</td>\n",
              "      <td>6300.81</td>\n",
              "    </tr>\n",
              "    <tr>\n",
              "      <th>4834</th>\n",
              "      <td>39.531372</td>\n",
              "      <td>-105.160760</td>\n",
              "      <td>2021-06-19T19:08:22.000Z</td>\n",
              "      <td>130</td>\n",
              "      <td>59</td>\n",
              "      <td>2021-06-19 19:08:22+00:00</td>\n",
              "      <td>2021-06-19 19:08:21+00:00</td>\n",
              "      <td>39.531360</td>\n",
              "      <td>-105.160754</td>\n",
              "      <td>(39.53137194737792, -105.1607596501708)</td>\n",
              "      <td>(39.53136021271348, -105.16075445339084)</td>\n",
              "      <td>1.377329</td>\n",
              "      <td>1508.269046</td>\n",
              "      <td>4834.0</td>\n",
              "      <td>https://nationalmap.gov/epqs/pqs.php?x=-105.16...</td>\n",
              "      <td>{'USGS_Elevation_Point_Query_Service': {'Eleva...</td>\n",
              "      <td>6761.89</td>\n",
              "    </tr>\n",
              "    <tr>\n",
              "      <th>6590</th>\n",
              "      <td>39.542896</td>\n",
              "      <td>-105.154692</td>\n",
              "      <td>2021-06-19T19:37:38.000Z</td>\n",
              "      <td>151</td>\n",
              "      <td>63</td>\n",
              "      <td>2021-06-19 19:37:38+00:00</td>\n",
              "      <td>2021-06-19 19:37:37+00:00</td>\n",
              "      <td>39.542876</td>\n",
              "      <td>-105.154700</td>\n",
              "      <td>(39.54289639368653, -105.15469173900783)</td>\n",
              "      <td>(39.54287627711892, -105.1547003723681)</td>\n",
              "      <td>2.353527</td>\n",
              "      <td>225.370748</td>\n",
              "      <td>6590.0</td>\n",
              "      <td>https://nationalmap.gov/epqs/pqs.php?x=-105.15...</td>\n",
              "      <td>{'USGS_Elevation_Point_Query_Service': {'Eleva...</td>\n",
              "      <td>6151.67</td>\n",
              "    </tr>\n",
              "    <tr>\n",
              "      <th>1711</th>\n",
              "      <td>39.534017</td>\n",
              "      <td>-105.159702</td>\n",
              "      <td>2021-06-19T18:16:19.000Z</td>\n",
              "      <td>114</td>\n",
              "      <td>54</td>\n",
              "      <td>2021-06-19 18:16:19+00:00</td>\n",
              "      <td>2021-06-19 18:16:18+00:00</td>\n",
              "      <td>39.534024</td>\n",
              "      <td>-105.159687</td>\n",
              "      <td>(39.53401735983789, -105.15970202162862)</td>\n",
              "      <td>(39.53402356244624, -105.15968659892678)</td>\n",
              "      <td>1.494077</td>\n",
              "      <td>1209.760629</td>\n",
              "      <td>1711.0</td>\n",
              "      <td>https://nationalmap.gov/epqs/pqs.php?x=-105.15...</td>\n",
              "      <td>{'USGS_Elevation_Point_Query_Service': {'Eleva...</td>\n",
              "      <td>6668.97</td>\n",
              "    </tr>\n",
              "  </tbody>\n",
              "</table>\n",
              "</div>\n",
              "      <button class=\"colab-df-convert\" onclick=\"convertToInteractive('df-aa7baa58-33a3-49e3-8a24-d4555d48eb1c')\"\n",
              "              title=\"Convert this dataframe to an interactive table.\"\n",
              "              style=\"display:none;\">\n",
              "        \n",
              "  <svg xmlns=\"http://www.w3.org/2000/svg\" height=\"24px\"viewBox=\"0 0 24 24\"\n",
              "       width=\"24px\">\n",
              "    <path d=\"M0 0h24v24H0V0z\" fill=\"none\"/>\n",
              "    <path d=\"M18.56 5.44l.94 2.06.94-2.06 2.06-.94-2.06-.94-.94-2.06-.94 2.06-2.06.94zm-11 1L8.5 8.5l.94-2.06 2.06-.94-2.06-.94L8.5 2.5l-.94 2.06-2.06.94zm10 10l.94 2.06.94-2.06 2.06-.94-2.06-.94-.94-2.06-.94 2.06-2.06.94z\"/><path d=\"M17.41 7.96l-1.37-1.37c-.4-.4-.92-.59-1.43-.59-.52 0-1.04.2-1.43.59L10.3 9.45l-7.72 7.72c-.78.78-.78 2.05 0 2.83L4 21.41c.39.39.9.59 1.41.59.51 0 1.02-.2 1.41-.59l7.78-7.78 2.81-2.81c.8-.78.8-2.07 0-2.86zM5.41 20L4 18.59l7.72-7.72 1.47 1.35L5.41 20z\"/>\n",
              "  </svg>\n",
              "      </button>\n",
              "      \n",
              "  <style>\n",
              "    .colab-df-container {\n",
              "      display:flex;\n",
              "      flex-wrap:wrap;\n",
              "      gap: 12px;\n",
              "    }\n",
              "\n",
              "    .colab-df-convert {\n",
              "      background-color: #E8F0FE;\n",
              "      border: none;\n",
              "      border-radius: 50%;\n",
              "      cursor: pointer;\n",
              "      display: none;\n",
              "      fill: #1967D2;\n",
              "      height: 32px;\n",
              "      padding: 0 0 0 0;\n",
              "      width: 32px;\n",
              "    }\n",
              "\n",
              "    .colab-df-convert:hover {\n",
              "      background-color: #E2EBFA;\n",
              "      box-shadow: 0px 1px 2px rgba(60, 64, 67, 0.3), 0px 1px 3px 1px rgba(60, 64, 67, 0.15);\n",
              "      fill: #174EA6;\n",
              "    }\n",
              "\n",
              "    [theme=dark] .colab-df-convert {\n",
              "      background-color: #3B4455;\n",
              "      fill: #D2E3FC;\n",
              "    }\n",
              "\n",
              "    [theme=dark] .colab-df-convert:hover {\n",
              "      background-color: #434B5C;\n",
              "      box-shadow: 0px 1px 3px 1px rgba(0, 0, 0, 0.15);\n",
              "      filter: drop-shadow(0px 1px 2px rgba(0, 0, 0, 0.3));\n",
              "      fill: #FFFFFF;\n",
              "    }\n",
              "  </style>\n",
              "\n",
              "      <script>\n",
              "        const buttonEl =\n",
              "          document.querySelector('#df-aa7baa58-33a3-49e3-8a24-d4555d48eb1c button.colab-df-convert');\n",
              "        buttonEl.style.display =\n",
              "          google.colab.kernel.accessAllowed ? 'block' : 'none';\n",
              "\n",
              "        async function convertToInteractive(key) {\n",
              "          const element = document.querySelector('#df-aa7baa58-33a3-49e3-8a24-d4555d48eb1c');\n",
              "          const dataTable =\n",
              "            await google.colab.kernel.invokeFunction('convertToInteractive',\n",
              "                                                     [key], {});\n",
              "          if (!dataTable) return;\n",
              "\n",
              "          const docLinkHtml = 'Like what you see? Visit the ' +\n",
              "            '<a target=\"_blank\" href=https://colab.research.google.com/notebooks/data_table.ipynb>data table notebook</a>'\n",
              "            + ' to learn more about interactive tables.';\n",
              "          element.innerHTML = '';\n",
              "          dataTable['output_type'] = 'display_data';\n",
              "          await google.colab.output.renderOutput(dataTable, element);\n",
              "          const docLink = document.createElement('div');\n",
              "          docLink.innerHTML = docLinkHtml;\n",
              "          element.appendChild(docLink);\n",
              "        }\n",
              "      </script>\n",
              "    </div>\n",
              "  </div>\n",
              "  "
            ],
            "text/plain": [
              "            lat  ...  elevation_feet\n",
              "6374  39.543895  ...         6232.13\n",
              "935   39.536602  ...         6300.81\n",
              "4834  39.531372  ...         6761.89\n",
              "6590  39.542896  ...         6151.67\n",
              "1711  39.534017  ...         6668.97\n",
              "\n",
              "[5 rows x 17 columns]"
            ]
          },
          "metadata": {},
          "execution_count": 64
        }
      ]
    },
    {
      "cell_type": "code",
      "source": [
        "sample_df.set_index('date_timestamp')['elevation_feet'].max()"
      ],
      "metadata": {
        "colab": {
          "base_uri": "https://localhost:8080/"
        },
        "id": "qYkdi11Pe_Ps",
        "outputId": "70e205db-5d9d-412c-a49f-0426f19782be"
      },
      "execution_count": 56,
      "outputs": [
        {
          "output_type": "execute_result",
          "data": {
            "text/plain": [
              "7127.49"
            ]
          },
          "metadata": {},
          "execution_count": 56
        }
      ]
    },
    {
      "cell_type": "code",
      "source": [
        "# temp = sample_df.iloc[0].elevation_response.json()\n",
        "# temp['USGS_Elevation_Point_Query_Service']['Elevation_Query']['Elevation']"
      ],
      "metadata": {
        "id": "YE3ygWVEZ0xg"
      },
      "execution_count": 57,
      "outputs": []
    },
    {
      "cell_type": "code",
      "source": [
        "# # https://www.geeksforgeeks.org/python-plotting-google-map-using-gmplot-package/\n",
        "!pip install gmplot -q\n",
        "import gmplot\n",
        "from datetime import datetime "
      ],
      "metadata": {
        "id": "3Zge2g81dVt4"
      },
      "execution_count": 65,
      "outputs": []
    },
    {
      "cell_type": "code",
      "source": [
        "sample_df = df.sample(1000)\n",
        "\n",
        "latitude_list = sample_df['lat'].to_list()\n",
        "longitude_list = sample_df['lon'].to_list()\n",
        "  \n",
        "gmap3 = gmplot.GoogleMapPlotter(latitude_list[0], longitude_list[0], 13)\n",
        "  \n",
        "# scatter method of map object \n",
        "# scatter points on the google map\n",
        "gmap3.scatter( latitude_list, longitude_list, '# FF0000',\n",
        "                              size = 10, marker = True )\n",
        "  \n",
        "# Plot method Draw a line in\n",
        "# between given coordinates\n",
        "gmap3.plot(latitude_list, longitude_list, \n",
        "           'cornflowerblue', edge_width = 2.5)\n",
        "\n",
        "NOW = datetime.now().strftime('%Y-%m-%d-%H-%M')\n",
        "\n",
        "gmap3.draw(f'mymap_{NOW}.html')"
      ],
      "metadata": {
        "colab": {
          "base_uri": "https://localhost:8080/"
        },
        "id": "TDcW5L29iyb5",
        "outputId": "141c4c2c-5fe1-4a1f-8c56-5fee717580f6"
      },
      "execution_count": 77,
      "outputs": [
        {
          "output_type": "stream",
          "name": "stderr",
          "text": [
            "/usr/local/lib/python3.7/dist-packages/gmplot/color.py:194: UserWarning: Color '# FF0000' isn't supported.\n",
            "  warnings.warn(\"Color '%s' isn't supported.\" % color)\n"
          ]
        }
      ]
    },
    {
      "cell_type": "code",
      "source": [
        "\n",
        "\n"
      ],
      "metadata": {
        "colab": {
          "base_uri": "https://localhost:8080/",
          "height": 35
        },
        "id": "cVsOvpKymPkA",
        "outputId": "2172669d-eb10-484d-c91c-e956278574b5"
      },
      "execution_count": 76,
      "outputs": [
        {
          "output_type": "execute_result",
          "data": {
            "application/vnd.google.colaboratory.intrinsic+json": {
              "type": "string"
            },
            "text/plain": [
              "'2022-02-06-15-18'"
            ]
          },
          "metadata": {},
          "execution_count": 76
        }
      ]
    },
    {
      "cell_type": "code",
      "source": [
        ""
      ],
      "metadata": {
        "id": "e4-IcuptmQMv"
      },
      "execution_count": null,
      "outputs": []
    }
  ]
}